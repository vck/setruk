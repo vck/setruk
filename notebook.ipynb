{
 "cells": [
  {
   "cell_type": "markdown",
   "metadata": {},
   "source": [
    "# Klasifikasi Jenis Kelamin Berdasarkan Nama Menggunakan Machine Learning\n",
    "\n",
    "                          Vicky Vernando Dasta - Hafizan Anas Sidiqi   \n",
    "                                            2017\n",
    "---\n",
    "\n",
    "\n",
    "## Abstrak:\n",
    "\n",
    "> sebuah penelitian terhadap nama-nama orang yang sering dipakai di Indonesia dengan tujuan membuat mesin yang bisa membedakan jenis kelamin dari nama tersebut**\n",
    "\n",
    "          \n",
    "\n",
    "---\n",
    "\n",
    "\n",
    "## Latar Belakang\n",
    "\n",
    "- sering terjadi kesalahan interpretasi gender dari nama seseorang\n",
    "- diperlukannya mesin yang bisa melihat pola dan hubungan antara corpus dari nama dengan gendernya\n",
    "\n",
    "## Teori\n",
    "\n",
    "*nama* dalam Kamus Besar Bahasa Indonesia berarti *kata untuk menyebut atau memanggil orang (tempat, barang, binatang, dan sebagainya)*. \n",
    "\n",
    "\n",
    "## Metodologi\n",
    "\n",
    "\n",
    "\n",
    "## Hasil \n",
    "\n",
    "## Kesimpulan\n",
    "**MESIN BISA MEMBEDAKAN JENIS KELAMIN DARI SEBUAH NAMA**\n",
    "\n",
    "\n",
    "\n"
   ]
  },
  {
   "cell_type": "code",
   "execution_count": 73,
   "metadata": {},
   "outputs": [],
   "source": [
    "import pandas as pd\n",
    "import numpy as np\n",
    "\n",
    "from sklearn.feature_extraction.text import CountVectorizer\n",
    "from sklearn.feature_extraction.text import TfidfVectorizer\n",
    "from sklearn.svm import LinearSVC\n",
    "from sklearn.model_selection import train_test_split\n",
    "from sklearn.linear_model import LogisticRegression\n",
    "from sklearn.metrics import confusion_matrix"
   ]
  },
  {
   "cell_type": "code",
   "execution_count": 74,
   "metadata": {},
   "outputs": [],
   "source": [
    "count_vectorizer = CountVectorizer()\n",
    "tfid_vectorizer = TfidfVectorizer()\n",
    "label_encoder = preprocessing.LabelEncoder()"
   ]
  },
  {
   "cell_type": "code",
   "execution_count": 75,
   "metadata": {},
   "outputs": [],
   "source": [
    "import warnings\n",
    "warnings.simplefilter(\"ignore\")"
   ]
  },
  {
   "cell_type": "code",
   "execution_count": 66,
   "metadata": {},
   "outputs": [
    {
     "name": "stdout",
     "output_type": "stream",
     "text": [
      "sebelum\n",
      "                   NAMA Jenis Kelamin\n",
      "0  ADITYA KUSUMANINGRUM     Perempuan\n",
      "1         ADNAN AGUNG P     Laki-laki\n",
      "2        AGNES MORIWOTI     Perempuan\n",
      "3    ANDINI NURAHMAYANI     Perempuan\n",
      "4             APHARUDIN     Laki-laki\n",
      "\n",
      "\n",
      "sesudah\n",
      "                   NAMA Jenis Kelamin\n",
      "0  aditya kusumaningrum     perempuan\n",
      "1         adnan agung p     laki-laki\n",
      "2        agnes moriwoti     perempuan\n",
      "3    andini nurahmayani     perempuan\n",
      "4             apharudin     laki-laki\n"
     ]
    }
   ],
   "source": [
    "df = pd.read_csv('data/cleaned-data.csv')\n",
    "print(\"sebelum\")\n",
    "print(df.head())\n",
    "print()\n",
    "lower_me = lambda name: name.lower() \n",
    "\n",
    "df[\"NAMA\"] = df[\"NAMA\"].apply(lower_me)\n",
    "df[\"Jenis Kelamin\"] = df[\"Jenis Kelamin\"].apply(lower_me)\n",
    "\n",
    "print()\n",
    "print(\"sesudah\")\n",
    "print(df.head())\n"
   ]
  },
  {
   "cell_type": "code",
   "execution_count": 67,
   "metadata": {},
   "outputs": [],
   "source": [
    "labels = label_encoder.fit_transform(df[\"Jenis Kelamin\"])\n",
    "labels = labels.reshape(labels.shape[0], 1)\n",
    "data = tfid_vectorizer.fit_transform(df[\"NAMA\"])"
   ]
  },
  {
   "cell_type": "code",
   "execution_count": 83,
   "metadata": {},
   "outputs": [],
   "source": [
    "x_train, x_test, y_train, y_test = train_test_split(data, labels)"
   ]
  },
  {
   "cell_type": "code",
   "execution_count": 69,
   "metadata": {},
   "outputs": [
    {
     "name": "stdout",
     "output_type": "stream",
     "text": [
      "(438, 1047) (438, 1)\n"
     ]
    }
   ],
   "source": [
    "print(x_train.shape, y_train.shape)"
   ]
  },
  {
   "cell_type": "code",
   "execution_count": 70,
   "metadata": {},
   "outputs": [
    {
     "name": "stdout",
     "output_type": "stream",
     "text": [
      "0.6598639455782312\n",
      "[[ 0  0  1]\n",
      " [ 0 17 44]\n",
      " [ 0  5 80]]\n"
     ]
    }
   ],
   "source": [
    "model = LogisticRegression()\n",
    "model.fit(x_train, y_train)\n",
    "print(model.score(x_test, y_test))\n",
    "\n",
    "predicted = model.predict(x_test)\n",
    "print(confusion_matrix(y_test, predicted))"
   ]
  },
  {
   "cell_type": "code",
   "execution_count": 71,
   "metadata": {},
   "outputs": [
    {
     "name": "stdout",
     "output_type": "stream",
     "text": [
      "0.5782312925170068\n",
      "[[ 0  0  1]\n",
      " [ 0  0 61]\n",
      " [ 0  0 85]]\n"
     ]
    }
   ],
   "source": [
    "model = SVC()\n",
    "model.fit(x_train, y_train)\n",
    "print(model.score(x_test, y_test))\n",
    "\n",
    "predicted = model.predict(x_test)\n",
    "print(confusion_matrix(y_test, predicted))"
   ]
  },
  {
   "cell_type": "code",
   "execution_count": 80,
   "metadata": {},
   "outputs": [
    {
     "name": "stdout",
     "output_type": "stream",
     "text": [
      "0.6462585034013606\n",
      "[[ 0  1  0]\n",
      " [ 0 56  5]\n",
      " [ 0 46 39]]\n"
     ]
    }
   ],
   "source": [
    "from sklearn.neural_network import MLPClassifier\n",
    "model = MLPClassifier(max_iter=100000)\n",
    "model.fit(x_train, y_train)\n",
    "print(model.score(x_test, y_test))\n",
    "\n",
    "predicted = model.predict(x_test)\n",
    "print(confusion_matrix(y_test, predicted))"
   ]
  },
  {
   "cell_type": "code",
   "execution_count": 77,
   "metadata": {},
   "outputs": [
    {
     "data": {
      "text/plain": [
       "MLPClassifier(activation='relu', alpha=0.0001, batch_size='auto', beta_1=0.9,\n",
       "       beta_2=0.999, early_stopping=False, epsilon=1e-08,\n",
       "       hidden_layer_sizes=(100,), learning_rate='constant',\n",
       "       learning_rate_init=0.001, max_iter=200, momentum=0.9,\n",
       "       n_iter_no_change=10, nesterovs_momentum=True, power_t=0.5,\n",
       "       random_state=None, shuffle=True, solver='adam', tol=0.0001,\n",
       "       validation_fraction=0.1, verbose=False, warm_start=False)"
      ]
     },
     "execution_count": 77,
     "metadata": {},
     "output_type": "execute_result"
    }
   ],
   "source": [
    "model"
   ]
  },
  {
   "cell_type": "code",
   "execution_count": null,
   "metadata": {},
   "outputs": [],
   "source": []
  }
 ],
 "metadata": {
  "kernelspec": {
   "display_name": "Python 3",
   "language": "python",
   "name": "python3"
  },
  "language_info": {
   "codemirror_mode": {
    "name": "ipython",
    "version": 3
   },
   "file_extension": ".py",
   "mimetype": "text/x-python",
   "name": "python",
   "nbconvert_exporter": "python",
   "pygments_lexer": "ipython3",
   "version": "3.7.0"
  }
 },
 "nbformat": 4,
 "nbformat_minor": 1
}
