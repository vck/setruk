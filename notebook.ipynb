{
 "cells": [
  {
   "cell_type": "markdown",
   "metadata": {},
   "source": [
    "# projek setruk\n",
    "---\n",
    "\n",
    "*sebuah penelitian terhadap nama-nama orang yang sering dipakai di Indonesia dengan tujuan membuat mesin yang bisa membedakan jenis kelamin dari nama tersebut**\n",
    "\n",
    "                        Vicky Vernando Dasta - Hafizan Anas Sidiqi\n",
    "                        vickydasta@gmail.com   \n",
    "\n",
    "                                          veeklab \n",
    "                                         2016 - 2017\n",
    "\n",
    "---\n",
    "\n",
    "\n",
    "## latar belakang\n",
    "\n",
    "- sering terjadi kesalahan interpretasi gender dari nama seseorang\n",
    "- diperlukannya mesin yang bisa melihat pola dan hubungan antara corpus dari nama dengan gendernya\n",
    "\n",
    "## teori\n",
    "\n",
    "*nama* dalam Kamus Besar Bahasa Indonesia berarti *kata untuk menyebut atau memanggil orang (tempat, barang, binatang, dan sebagainya)*. \n",
    "\n",
    "\n",
    "## tools\n",
    "\n",
    "- scikit-learn\n",
    "- pandas\n",
    "- numpy\n",
    "- sqlite\n",
    "\n",
    "# kesimpulan sementara\n",
    "\n",
    "**MESIN BISA MEMBEDAKAN JENIS KELAMIN DARI SEBUAH NAMA**\n",
    "\n",
    "\n",
    "\n"
   ]
  },
  {
   "cell_type": "code",
   "execution_count": 270,
   "metadata": {
    "collapsed": false
   },
   "outputs": [],
   "source": [
    "import pandas as pd\n",
    "import numpy as np\n",
    "\n",
    "from sklearn import preprocessing\n",
    "from sklearn.feature_extraction.text import CountVectorizer\n",
    "from sklearn.svm import SVC\n",
    "from sklearn.feature_extraction.text import TfidfVectorizer\n",
    "from sklearn.svm import LinearSVC\n",
    "from sklearn.svm import SVC\n",
    "\n",
    "import pickle\n",
    "\n",
    "import sqlite3 as sqlite\n",
    "from pylab import *\n",
    "\n",
    "cvect = CountVectorizer()\n",
    "tfidfvect = TfidfVectorizer()\n",
    "le = preprocessing.LabelEncoder()\n",
    "\n"
   ]
  },
  {
   "cell_type": "code",
   "execution_count": 43,
   "metadata": {
    "collapsed": false,
    "scrolled": true
   },
   "outputs": [
    {
     "name": "stderr",
     "output_type": "stream",
     "text": [
      "/home/vickydasta/anaconda2/lib/python2.7/site-packages/ipykernel/__main__.py:9: SettingWithCopyWarning: \n",
      "A value is trying to be set on a copy of a slice from a DataFrame.\n",
      "Try using .loc[row_indexer,col_indexer] = value instead\n",
      "\n",
      "See the caveats in the documentation: http://pandas.pydata.org/pandas-docs/stable/indexing.html#indexing-view-versus-copy\n",
      "/home/vickydasta/anaconda2/lib/python2.7/site-packages/ipykernel/__main__.py:10: SettingWithCopyWarning: \n",
      "A value is trying to be set on a copy of a slice from a DataFrame.\n",
      "Try using .loc[row_indexer,col_indexer] = value instead\n",
      "\n",
      "See the caveats in the documentation: http://pandas.pydata.org/pandas-docs/stable/indexing.html#indexing-view-versus-copy\n"
     ]
    },
    {
     "data": {
      "text/plain": [
       "11    0\n",
       "12    0\n",
       "13    0\n",
       "14    0\n",
       "15    0\n",
       "16    0\n",
       "17    0\n",
       "18    1\n",
       "19    0\n",
       "20    0\n",
       "21    0\n",
       "22    0\n",
       "23    0\n",
       "24    0\n",
       "25    1\n",
       "26    0\n",
       "27    0\n",
       "28    1\n",
       "29    1\n",
       "Name:  gender, dtype: int64"
      ]
     },
     "execution_count": 43,
     "metadata": {},
     "output_type": "execute_result"
    }
   ],
   "source": [
    "df = pd.read_csv(\"data/data.csv\")\n",
    "\n",
    "# split data into test and train\n",
    "# 1:2\n",
    "\n",
    "train = df[11:30]\n",
    "test = df[0:10]\n",
    "\n",
    "test[\" gender\"] = test[\" gender\"].map({\" male\": 0, \" female\": 1})\n",
    "train[\" gender\"] = train[\" gender\"].map({\" male\": 0, \" female\": 1})\n",
    "\n",
    "label = train[\" gender\"]\n",
    "feature = train[\" name\"]\n",
    "len(label) == len(feature)\n",
    "label"
   ]
  },
  {
   "cell_type": "code",
   "execution_count": null,
   "metadata": {
    "collapsed": false
   },
   "outputs": [],
   "source": []
  },
  {
   "cell_type": "code",
   "execution_count": 46,
   "metadata": {
    "collapsed": false
   },
   "outputs": [
    {
     "data": {
      "text/plain": [
       "SVC(C=1.0, cache_size=200, class_weight=None, coef0=0.0,\n",
       "  decision_function_shape=None, degree=3, gamma='auto', kernel='rbf',\n",
       "  max_iter=-1, probability=False, random_state=None, shrinking=True,\n",
       "  tol=0.001, verbose=False)"
      ]
     },
     "execution_count": 46,
     "metadata": {},
     "output_type": "execute_result"
    }
   ],
   "source": []
  },
  {
   "cell_type": "code",
   "execution_count": null,
   "metadata": {
    "collapsed": false
   },
   "outputs": [],
   "source": []
  },
  {
   "cell_type": "markdown",
   "metadata": {},
   "source": [
    "# setruk, Jan 3, 2017\n",
    "\n",
    "- cleaning data\n",
    "- import data to sqlite\n",
    "\n",
    "pada tahap ini, sudah terkumpul sebanyak 318 data (nama, jenis kelamin).\n",
    "selanjutnya dilakukan pembersihan terhadap data tersebut.\n",
    "\n",
    "tahap selanjutnya, dilakukan visualisasi terhadap nama."
   ]
  },
  {
   "cell_type": "code",
   "execution_count": null,
   "metadata": {
    "collapsed": false
   },
   "outputs": [],
   "source": [
    "import csv \n",
    "\n",
    "f = open('data/data-2.csv', 'r')\n",
    "names = csv.reader(f)\n",
    "\n",
    "for name in names:\n",
    "    print name[0].lower(), \"0\" if name[1].lower() == \"m\" else \"1\""
   ]
  },
  {
   "cell_type": "code",
   "execution_count": null,
   "metadata": {
    "collapsed": false
   },
   "outputs": [],
   "source": [
    "import csv\n",
    "\n",
    "for name in csv.reader(open('data/data.csv')):\n",
    "    print name[1], name[2]"
   ]
  },
  {
   "cell_type": "code",
   "execution_count": null,
   "metadata": {
    "collapsed": false
   },
   "outputs": [],
   "source": []
  },
  {
   "cell_type": "code",
   "execution_count": 57,
   "metadata": {
    "collapsed": false
   },
   "outputs": [],
   "source": [
    "# split data into train and test with proportion 1:4\n",
    "\n",
    "name_test = token[0: 80]\n",
    "gender_test = gender[0: 80]\n",
    "\n",
    "gender_train = gender[80: 320]\n",
    "name_train = token[80: 320]\n"
   ]
  },
  {
   "cell_type": "code",
   "execution_count": null,
   "metadata": {
    "collapsed": false
   },
   "outputs": [],
   "source": [
    "import sqlite3\n",
    "import pandas as pd\n",
    "\n",
    "con = sqlite3.connect(\"setruk-2.db\")\n",
    "df = pd.read_sql(\"SELECT * FROM dist_name WHERE sum > 4 and gender=0\", con)\n",
    "df2 = pd.read_sql(\"SELECT * FROM dist_name WHERE sum > 4 and gender=1\", con)"
   ]
  },
  {
   "cell_type": "code",
   "execution_count": 39,
   "metadata": {
    "collapsed": false
   },
   "outputs": [],
   "source": [
    "df2 = pd.read_sql(\"SELECT * FROM dist_name WHERE sum > 4 and gender=1\", con)\n",
    "token = [token.encode('ascii') for token in df2['token']]\n",
    "token_sum = [x for x in df2['sum']]\n",
    "gender = [gender for gender in df]\n",
    "import csv\n",
    "\n",
    "f = open('data.csv', 'a+')\n",
    "\n",
    "csv_writer = csv.writer(f)\n",
    "\n",
    "csv_writer.writerow(('token', 'freq'))\n",
    "for i in range(len(token)):\n",
    "    csv_writer.writerow((token[i], token_sum[i]))\n",
    "\n",
    "f.close()"
   ]
  },
  {
   "cell_type": "markdown",
   "metadata": {},
   "source": [
    "# 8 Januari, 2017\n",
    "\n",
    "using logistic regression"
   ]
  },
  {
   "cell_type": "code",
   "execution_count": 154,
   "metadata": {
    "collapsed": false
   },
   "outputs": [
    {
     "data": {
      "text/plain": [
       "name      4\n",
       "gender    9\n",
       "dtype: int64"
      ]
     },
     "execution_count": 154,
     "metadata": {},
     "output_type": "execute_result"
    }
   ],
   "source": [
    "import pandas as pd\n",
    "import csv\n",
    "\n",
    "\n",
    "f = open('data/namanama.csv', 'r')\n",
    "\n",
    "csvr = csv.reader(f)\n",
    "\n",
    "name, gender = [], []\n",
    "\n",
    "for data in csvr:\n",
    "    n, g = data[0].split(';')\n",
    "    if name != '' and g != '':\n",
    "        name.append(n)\n",
    "        gender.append(g)\n",
    "    \n",
    "data = zip(name, gender)\n",
    "\n",
    "f = open('data/new-data.csv','a+')\n",
    "\n",
    "csvwriter = csv.writer(f)\n",
    "csvwriter.writerow(('name', 'gender'))\n",
    "\n",
    "\n",
    "for item in data:\n",
    "    csvwriter.writerow(item)\n",
    "\n",
    "df = pd.read_csv('data/new-data.csv')\n",
    "\n",
    "df.isnull().sum()\n"
   ]
  },
  {
   "cell_type": "code",
   "execution_count": 316,
   "metadata": {
    "collapsed": false
   },
   "outputs": [],
   "source": [
    "# ipython stuff \n",
    "\n",
    "import csv\n",
    "\n",
    "f = open('data/namanama.csv', 'r')\n",
    "\n",
    "name, gender = [], []\n",
    "\n",
    "data = csv.reader(f)\n",
    "\n",
    "for item in data:\n",
    "    n, g = item[0].split(';')\n",
    "    if n and g:\n",
    "        name.append(n)\n",
    "        gender.append(g)\n",
    "\n",
    "\n",
    "gender = [g for g in gender if g != '']\n",
    "name = [n for n in name if n != '']\n",
    "\n",
    "cleaned_data = zip(name, gender)\n",
    "\n",
    "writer = csv.writer(open('data/data-2.csv','a+'))\n",
    "\n",
    "for d in cleaned_data:\n",
    "    writer.writerow(d)\n"
   ]
  },
  {
   "cell_type": "code",
   "execution_count": null,
   "metadata": {
    "collapsed": true
   },
   "outputs": [],
   "source": []
  },
  {
   "cell_type": "code",
   "execution_count": 293,
   "metadata": {
    "collapsed": false
   },
   "outputs": [
    {
     "name": "stdout",
     "output_type": "stream",
     "text": [
      "Lk\n"
     ]
    }
   ],
   "source": [
    "# model 1\n",
    "\n",
    "df_new_name = pd.read_csv('data/cleaned-data.csv')\n",
    "names = [name for name in df_new_name.nama]\n",
    "label = [label for label in df_new_name.jenis_kelamin]\n",
    "\n",
    "X = tfidfvect.fit_transform(names)\n",
    "test = ['liam neeson']\n",
    "X_test = tfidfvect.transform(test)\n",
    "\n",
    "clf = LinearSVC()\n",
    "clf.fit(X, label)\n",
    "\n",
    "print clf.predict(X_test)[0]\n",
    "\n",
    "pickle.dump(clf, open('models/model1.sav', 'wb'))\n"
   ]
  },
  {
   "cell_type": "code",
   "execution_count": 271,
   "metadata": {
    "collapsed": false
   },
   "outputs": [],
   "source": [
    "# model 2\n",
    "\n",
    "X_ = cvect.fit_transform(names)\n",
    "\n",
    "clf_ = LinearSVC()\n",
    "\n",
    "clf_.fit(X_, label)\n",
    "\n",
    "# save the model 2\n",
    "\n",
    "pickle.dump(clf_, open('model2.sav', 'wb'))\n",
    "\n"
   ]
  },
  {
   "cell_type": "code",
   "execution_count": 294,
   "metadata": {
    "collapsed": false
   },
   "outputs": [
    {
     "data": {
      "text/plain": [
       "SVC(C=1.0, cache_size=200, class_weight=None, coef0=0.0,\n",
       "  decision_function_shape=None, degree=3, gamma='auto', kernel='rbf',\n",
       "  max_iter=-1, probability=False, random_state=None, shrinking=True,\n",
       "  tol=0.001, verbose=False)"
      ]
     },
     "execution_count": 294,
     "metadata": {},
     "output_type": "execute_result"
    }
   ],
   "source": [
    "svc_clf = SVC()\n",
    "svc_clf.fit(X, label)"
   ]
  },
  {
   "cell_type": "code",
   "execution_count": 312,
   "metadata": {
    "collapsed": false
   },
   "outputs": [
    {
     "data": {
      "text/plain": [
       "array(['Lk'], \n",
       "      dtype='|S2')"
      ]
     },
     "execution_count": 312,
     "metadata": {},
     "output_type": "execute_result"
    }
   ],
   "source": [
    "clf.predict(cvect.transform([\"nurhalena\"]))"
   ]
  },
  {
   "cell_type": "code",
   "execution_count": 314,
   "metadata": {
    "collapsed": false
   },
   "outputs": [
    {
     "name": "stdout",
     "output_type": "stream",
     "text": [
      "using test name: eka\n",
      "\n",
      "using CountVectorizer\n",
      "gender: Pr\n",
      "using tfidf vectorizer\n",
      "gender: Pr\n"
     ]
    }
   ],
   "source": [
    "test_name = ['eka']\n",
    "\n",
    "test = cvect.transform(test_name)\n",
    "\n",
    "print \"using test name: {0}\".format(test_name[0])\n",
    "print\n",
    "print \"using CountVectorizer\"\n",
    "print \"gender: {}\".format(clf_.predict(test)[0])\n",
    "print \"using tfidf vectorizer\"\n",
    "print \"gender: {}\".format(clf.predict(test)[0])\n"
   ]
  },
  {
   "cell_type": "code",
   "execution_count": null,
   "metadata": {
    "collapsed": false
   },
   "outputs": [],
   "source": []
  },
  {
   "cell_type": "code",
   "execution_count": null,
   "metadata": {
    "collapsed": false
   },
   "outputs": [],
   "source": []
  },
  {
   "cell_type": "code",
   "execution_count": 129,
   "metadata": {
    "collapsed": false
   },
   "outputs": [],
   "source": []
  },
  {
   "cell_type": "code",
   "execution_count": null,
   "metadata": {
    "collapsed": false
   },
   "outputs": [],
   "source": []
  },
  {
   "cell_type": "code",
   "execution_count": null,
   "metadata": {
    "collapsed": false
   },
   "outputs": [],
   "source": []
  },
  {
   "cell_type": "code",
   "execution_count": null,
   "metadata": {
    "collapsed": false
   },
   "outputs": [],
   "source": []
  },
  {
   "cell_type": "code",
   "execution_count": null,
   "metadata": {
    "collapsed": false
   },
   "outputs": [],
   "source": []
  },
  {
   "cell_type": "code",
   "execution_count": null,
   "metadata": {
    "collapsed": false
   },
   "outputs": [],
   "source": []
  },
  {
   "cell_type": "code",
   "execution_count": null,
   "metadata": {
    "collapsed": true
   },
   "outputs": [],
   "source": []
  }
 ],
 "metadata": {
  "kernelspec": {
   "display_name": "Python 2",
   "language": "python",
   "name": "python2"
  },
  "language_info": {
   "codemirror_mode": {
    "name": "ipython",
    "version": 2
   },
   "file_extension": ".py",
   "mimetype": "text/x-python",
   "name": "python",
   "nbconvert_exporter": "python",
   "pygments_lexer": "ipython2",
   "version": "2.7.12"
  }
 },
 "nbformat": 4,
 "nbformat_minor": 0
}
